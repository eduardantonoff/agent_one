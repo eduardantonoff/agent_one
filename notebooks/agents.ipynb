{
 "cells": [
  {
   "cell_type": "markdown",
   "metadata": {},
   "source": [
    "### Libraries"
   ]
  },
  {
   "cell_type": "code",
   "execution_count": 1,
   "metadata": {},
   "outputs": [],
   "source": [
    "# processing:\n",
    "import os\n",
    "import json\n",
    "import operator\n",
    "from typing import TypedDict, Annotated, Any, Dict\n",
    "\n",
    "\n",
    "# graph:\n",
    "from langchain_core.messages import AIMessage\n",
    "from langchain_core.tools import tool\n",
    "from langgraph.prebuilt import ToolNode\n",
    "from langgraph.graph import StateGraph, END\n",
    "from pydantic_core import CoreSchema\n",
    "from pydantic import BaseModel, GetJsonSchemaHandler\n",
    "from langchain_core.messages import AnyMessage, SystemMessage, HumanMessage, ToolMessage\n",
    "from tavily import TavilyClient # <- websearch\n",
    "from duckduckgo_search import DDGS"
   ]
  },
  {
   "cell_type": "code",
   "execution_count": 2,
   "metadata": {},
   "outputs": [],
   "source": [
    "from langchain_openai import ChatOpenAI"
   ]
  },
  {
   "cell_type": "markdown",
   "metadata": {},
   "source": [
    "##### .env"
   ]
  },
  {
   "cell_type": "code",
   "execution_count": 3,
   "metadata": {},
   "outputs": [],
   "source": [
    "from dotenv import load_dotenv\n",
    "\n",
    "load_dotenv('.env', override=True)\n",
    "\n",
    "openai_api = os.getenv(\"OPENAI_API_KEY\")\n",
    "openrouter = os.getenv(\"OPENROUTER_API_KEY\")\n",
    "gigachat_api = os.getenv(\"GIGACHAT_AUTH_DATA\")\n",
    "proxy_api = os.getenv(\"PROXY_API_KEY\")"
   ]
  },
  {
   "cell_type": "markdown",
   "metadata": {},
   "source": [
    "#### KST"
   ]
  },
  {
   "cell_type": "code",
   "execution_count": 4,
   "metadata": {},
   "outputs": [],
   "source": [
    "path = 'ks_one.json'\n",
    "\n",
    "with open(path, 'r') as file:\n",
    "    kst_one = json.load(file)"
   ]
  },
  {
   "cell_type": "code",
   "execution_count": 5,
   "metadata": {},
   "outputs": [
    {
     "name": "stdout",
     "output_type": "stream",
     "text": [
      "A.1.1 Definition of Machine Learning\n",
      "A.1.2 Machine Learning vs. Traditional Programming\n",
      "A.2.1 Understanding Datasets\n"
     ]
    }
   ],
   "source": [
    "labels = [node['label'] for node in kst_one['nodes']]\n",
    "\n",
    "sorted_labels = sorted(labels)\n",
    "\n",
    "for label in sorted_labels[:3]:\n",
    "    print(label)"
   ]
  },
  {
   "cell_type": "markdown",
   "metadata": {},
   "source": [
    "#### Agent"
   ]
  },
  {
   "cell_type": "markdown",
   "metadata": {},
   "source": [
    "##### Tools"
   ]
  },
  {
   "cell_type": "code",
   "execution_count": 6,
   "metadata": {},
   "outputs": [],
   "source": [
    "@tool\n",
    "def get_node_by_id(node_id: int):\n",
    "    \"\"\"\n",
    "    Retrieve a node by its ID.\n",
    "    \"\"\"\n",
    "    for node in kst_one['nodes']:\n",
    "        if node['id'] == int(node_id):\n",
    "            label = node['label']\n",
    "            content = node['content']\n",
    "            return label + ': ' + content\n",
    "        \n",
    "    raise KeyError(f\"Node with ID {node_id} not found.\")\n",
    "    # return 1\n",
    "\n",
    "@tool\n",
    "def get_target_nodes(node_id):\n",
    "    \"\"\"\n",
    "    Retrieve all target nodes that the given node points to (outgoing connections).\n",
    "    \"\"\"\n",
    "    target_nodes = []\n",
    "    for edge in kst_one['edges']:\n",
    "        if edge['source'] == int(node_id):\n",
    "            for connection in edge.get('connections', []):\n",
    "                target_node = None\n",
    "                for node in kst_one['nodes']:\n",
    "                    if node['id'] == connection['target']:\n",
    "                        target_node = node\n",
    "                        break\n",
    "                if target_node:\n",
    "                    target_nodes.append(target_node)\n",
    "\n",
    "    return target_nodes"
   ]
  },
  {
   "cell_type": "code",
   "execution_count": 7,
   "metadata": {},
   "outputs": [],
   "source": [
    "tools = [get_node_by_id, get_target_nodes]\n",
    "\n",
    "tool_node = ToolNode(tools)"
   ]
  },
  {
   "cell_type": "code",
   "execution_count": 8,
   "metadata": {},
   "outputs": [
    {
     "data": {
      "text/plain": [
       "{'messages': [ToolMessage(content='A.1.2 Machine Learning vs. Traditional Programming: In this module, we will explore the fundamental differences between Machine Learning (ML) and traditional programming. Traditional programming is a process where a programmer writes a set of explicit instructions for the computer to follow. These instructions are based on specific rules and logic that the programmer defines. For example, if you want a computer to calculate the sum of two numbers, you would write a program that tells the computer exactly how to perform that calculation step by step.\\n\\nOn the other hand, Machine Learning takes a different approach. Instead of relying on explicit instructions, ML involves training algorithms on large datasets. The algorithm learns patterns and relationships within the data, allowing it to make predictions or decisions based on new, unseen data. For instance, in image recognition, rather than programming the computer to identify specific features of an image, we provide it with thousands of labeled images. The ML algorithm learns from these examples and can then recognize similar images in the future.\\n\\nTo illustrate the differences further, consider the following scenarios:\\n1. **Spam Detection**: In traditional programming, a developer might write rules to identify spam emails based on specific keywords. In contrast, an ML model can be trained on a dataset of emails, learning to recognize spam based on patterns rather than explicit rules.\\n2. **Language Translation**: Traditional programming would require a programmer to define all the grammatical rules and vocabulary for translation. ML, however, can analyze vast amounts of bilingual text to learn how to translate phrases and sentences more naturally.\\n\\nIn summary, while traditional programming is effective for straightforward tasks with clear rules, Machine Learning excels in complex, data-rich environments where it can learn from examples and adapt to new situations. This module will provide you with a deeper understanding of when to use each approach and the advantages of Machine Learning in solving real-world problems.', name='get_node_by_id', tool_call_id='tool_call_id')]}"
      ]
     },
     "execution_count": 8,
     "metadata": {},
     "output_type": "execute_result"
    }
   ],
   "source": [
    "message_with_single_tool_call = AIMessage(\n",
    "    content=\"\",\n",
    "    tool_calls=[\n",
    "        {\n",
    "            \"name\": \"get_node_by_id\",\n",
    "            \"args\": {\"graph\": kst_one, \"node_id\": 2},\n",
    "            \"id\": \"tool_call_id\",\n",
    "            \"type\": \"tool_call\",\n",
    "        }\n",
    "    ],\n",
    ")\n",
    "\n",
    "tool_node.invoke({\"messages\": [message_with_single_tool_call]})"
   ]
  },
  {
   "cell_type": "code",
   "execution_count": 9,
   "metadata": {},
   "outputs": [
    {
     "data": {
      "text/plain": [
       "{'messages': [ToolMessage(content='A.1.1 Definition of Machine Learning: Machine Learning (ML) is a fascinating area of artificial intelligence that focuses on the development of algorithms that allow computers to learn from and make predictions based on data. Unlike traditional programming, where explicit instructions are given for every task, ML enables computers to identify patterns and make decisions autonomously by analyzing large datasets. \\n\\nAt its core, ML revolves around the idea of data-driven decision-making. This means that instead of relying solely on human input, machines can analyze historical data to uncover trends and insights that inform their predictions. For example, in healthcare, ML algorithms can analyze patient data to predict disease outbreaks or recommend personalized treatment plans. In finance, ML is used to detect fraudulent transactions by recognizing unusual patterns in spending behavior. Similarly, in e-commerce, ML helps personalize shopping experiences by recommending products based on user preferences and past purchases.\\n\\nThe process of machine learning typically involves several key steps: \\n1. **Data Collection**: Gathering relevant data that will be used for training the model. \\n2. **Data Preparation**: Cleaning and organizing the data to ensure it is suitable for analysis. \\n3. **Model Training**: Using algorithms to train the model on the prepared data, allowing it to learn from the examples provided. \\n4. **Model Evaluation**: Testing the model on new data to assess its accuracy and performance. \\n5. **Deployment**: Implementing the model in real-world applications where it can make predictions or decisions based on new data inputs.\\n\\nOverall, Machine Learning represents a significant advancement in technology, enabling systems to improve their performance over time as they are exposed to more data. This capability has profound implications across various industries, making it a crucial area of study for anyone interested in the future of technology and data analysis.', name='get_node_by_id', tool_call_id='tool_call_id'),\n",
       "  ToolMessage(content='[{\"id\": 5, \"label\": \"A.3.1 What is a Model?\", \"description\": \"A Machine Learning model is the core mechanism through which a computer makes predictions or decisions based on input data. This module explains what a model is and its purpose in ML workflows. It will cover different types of models, including regression models, classification models, and clustering models. The description includes the basic structure of a model, such as its inputs, outputs, and parameters, and how models use mathematical functions to generate predictions. Real-world examples will be used to demonstrate how models can generalize from training data to make predictions on new, unseen data.\", \"content\": \"In the realm of Machine Learning (ML), a model serves as the fundamental building block that enables computers to make informed predictions or decisions based on data. At its core, a model is a mathematical representation that learns from historical data, allowing it to identify patterns and relationships within that data. \\\\n\\\\n### What is a Model?\\\\nA Machine Learning model can be thought of as a function that maps input data to output predictions. The model is trained using a dataset, which consists of input-output pairs. During training, the model adjusts its internal parameters to minimize the difference between its predictions and the actual outputs in the training data. \\\\n\\\\n### Types of Models\\\\n1. **Regression Models**: These models are used when the output is a continuous value. For example, predicting house prices based on features like size, location, and number of bedrooms. Common regression techniques include Linear Regression and Polynomial Regression.\\\\n\\\\n2. **Classification Models**: These models are used when the output is a discrete label. For instance, classifying emails as \\'spam\\' or \\'not spam\\'. Popular classification algorithms include Logistic Regression, Decision Trees, and Support Vector Machines.\\\\n\\\\n3. **Clustering Models**: Unlike regression and classification, clustering models are used to group similar data points together without predefined labels. An example is customer segmentation in marketing, where customers are grouped based on purchasing behavior. K-Means and Hierarchical Clustering are common clustering techniques.\\\\n\\\\n### Structure of a Model\\\\nA typical model consists of:\\\\n- **Inputs**: The features or variables that the model uses to make predictions. For example, in a house price prediction model, the inputs could be the size of the house, the number of rooms, and the location.\\\\n- **Outputs**: The predictions made by the model. In the house price example, the output would be the estimated price of the house.\\\\n- **Parameters**: These are the internal variables of the model that are adjusted during training to improve accuracy. For instance, in a linear regression model, the parameters would be the coefficients that determine the slope of the line fitting the data.\\\\n\\\\n### How Models Make Predictions\\\\nModels use mathematical functions to process the input data and generate predictions. For example, a linear regression model uses a linear equation to relate the input features to the output. Once trained, the model can take new, unseen data as input and produce predictions based on what it has learned from the training data.\\\\n\\\\n### Real-World Examples\\\\nTo illustrate the concept of models, consider a few real-world applications:\\\\n- **Healthcare**: Predicting patient outcomes based on historical health data.\\\\n- **Finance**: Assessing credit risk by analyzing past loan data.\\\\n- **Retail**: Forecasting sales based on seasonal trends and customer behavior.\\\\n\\\\nIn summary, a Machine Learning model is a powerful tool that enables computers to learn from data and make predictions. Understanding the different types of models and their structures is essential for anyone looking to delve into the field of Machine Learning.\", \"assessment\": [{\"question\": \"Describe the role of a model in Machine Learning.\", \"type\": \"open-ended\", \"answer\": null}], \"prerequisites\": [2, 4], \"level\": 1, \"status\": \"not started\", \"tags\": [\"Models and Algorithms\", \"Model\"], \"estimated_time\": \"10 minutes\"}, {\"id\": 7, \"label\": \"A.4.1 Overview of Supervised Learning\", \"description\": \"Supervised learning is the most common type of ML, where the model is trained using labeled data (input-output pairs). This module will describe the process of supervised learning, including how the model learns a mapping from input features to output labels. Learners will explore key applications, such as email classification and fraud detection, and understand the advantages and limitations of supervised learning. A focus will be placed on the concept of training, validation, and testing in a supervised learning framework.\", \"content\": \"Supervised learning is a fundamental concept in machine learning that involves training a model on a dataset that contains both input data and the corresponding correct output. This approach is akin to a teacher guiding a student by providing examples and the correct answers, allowing the model to learn from these examples. \\\\n\\\\n### Key Concepts:\\\\n1. **Labeled Data**: In supervised learning, each training example consists of an input (features) and an output (label). For instance, in an email classification task, the input could be the text of the email, and the output could be a label indicating whether the email is \\'spam\\' or \\'not spam\\'. \\\\n\\\\n2. **Training Process**: The model learns by adjusting its parameters to minimize the difference between its predictions and the actual labels in the training data. This process is often achieved through algorithms such as linear regression, decision trees, or neural networks.\\\\n\\\\n3. **Validation and Testing**: To ensure that the model generalizes well to unseen data, it is essential to split the dataset into three parts: training, validation, and testing. The training set is used to train the model, the validation set is used to tune the model\\'s parameters, and the testing set is used to evaluate the model\\'s performance.\\\\n\\\\n### Applications of Supervised Learning:\\\\n- **Email Classification**: Automatically categorizing emails into different folders (e.g., spam, promotions, primary).\\\\n- **Fraud Detection**: Identifying fraudulent transactions by analyzing patterns in historical transaction data.\\\\n\\\\n### Advantages and Limitations:\\\\n- **Advantages**: Supervised learning can achieve high accuracy when sufficient labeled data is available. It is also relatively straightforward to understand and implement.\\\\n- **Limitations**: The need for labeled data can be a significant drawback, as labeling data can be time-consuming and expensive. Additionally, models may not perform well if they encounter data that is significantly different from the training data.\\\\n\\\\nIn summary, supervised learning is a powerful technique in machine learning that relies on labeled data to train models, making it applicable in various real-world scenarios. Understanding the principles of supervised learning is crucial for anyone looking to delve into the field of machine learning.\", \"assessment\": [{\"question\": \"Recognize supervised learning scenarios.\", \"type\": \"multiple-choice\", \"options\": [\"Learning without labeled data.\", \"Learning with labeled input-output pairs.\", \"Reinforcing behaviors through rewards.\"], \"answer\": \"Learning with labeled input-output pairs.\"}], \"prerequisites\": [4, 5, 6], \"level\": 1, \"status\": \"not started\", \"tags\": [\"Types of ML\", \"Supervised Learning\"], \"estimated_time\": \"10 minutes\"}, {\"id\": 10, \"label\": \"A.4.4 Overview of Unsupervised Learning\", \"description\": \"In contrast to supervised learning, unsupervised learning involves training models on data without explicit labels. This module introduces unsupervised learning techniques, such as clustering and dimensionality reduction, that allow models to find patterns and structures in data. Examples, such as market basket analysis and customer segmentation, will demonstrate real-world use cases. The description will also touch on the limitations of unsupervised learning, such as its reliance on data quality and the challenge of evaluating performance.\", \"content\": \"Unsupervised learning is a type of machine learning that deals with data that does not have labeled responses. Unlike supervised learning, where the model is trained on a dataset that includes both input features and the corresponding output labels, unsupervised learning focuses solely on the input data. The goal is to identify patterns, groupings, or structures within the data without any prior knowledge of what those patterns might be.\\\\n\\\\n### Key Techniques in Unsupervised Learning\\\\n1. **Clustering**: This technique involves grouping similar data points together. For example, in customer segmentation, businesses can use clustering to identify distinct groups of customers based on purchasing behavior, allowing for targeted marketing strategies.\\\\n\\\\n2. **Dimensionality Reduction**: This technique reduces the number of features in a dataset while preserving its essential characteristics. It is particularly useful in visualizing high-dimensional data and improving the performance of other machine learning algorithms. A common method for dimensionality reduction is Principal Component Analysis (PCA).\\\\n\\\\n### Real-World Applications\\\\n- **Market Basket Analysis**: Retailers use unsupervised learning to analyze customer purchase patterns. By identifying which products are frequently bought together, businesses can optimize product placements and create effective promotions.\\\\n- **Customer Segmentation**: Companies can segment their customers into different groups based on purchasing behavior, demographics, or preferences, enabling personalized marketing and improved customer service.\\\\n\\\\n### Limitations of Unsupervised Learning\\\\nWhile unsupervised learning is powerful, it has its challenges. The quality of the results heavily depends on the quality of the input data. If the data is noisy or contains outliers, the patterns identified may not be meaningful. Additionally, evaluating the performance of unsupervised learning models can be difficult since there are no labels to compare against. Techniques such as silhouette scores or the elbow method can help assess clustering performance, but they are not always definitive.\\\\n\\\\nIn summary, unsupervised learning is a valuable tool for discovering hidden patterns in data, and it has numerous applications across various industries. Understanding its techniques and limitations is crucial for effectively leveraging its capabilities.\", \"assessment\": [{\"question\": \"Recognize unsupervised learning scenarios.\", \"type\": \"multiple-choice\", \"options\": [\"Learning from labeled data.\", \"Finding patterns in unlabeled data.\", \"Optimizing actions based on rewards.\"], \"answer\": \"Finding patterns in unlabeled data.\"}], \"prerequisites\": [4, 5, 6], \"level\": 1, \"status\": \"not started\", \"tags\": [\"Types of ML\", \"Unsupervised Learning\"], \"estimated_time\": \"10 minutes\"}]', name='get_target_nodes', tool_call_id='tool_call_id')]}"
      ]
     },
     "execution_count": 9,
     "metadata": {},
     "output_type": "execute_result"
    }
   ],
   "source": [
    "message_with_multiple_tool_calls = AIMessage(\n",
    "    content=\"\",\n",
    "    tool_calls=[\n",
    "        {\n",
    "            \"name\": \"get_node_by_id\",\n",
    "            \"args\": {\"node_id\": 1},\n",
    "            \"id\": \"tool_call_id\",\n",
    "            \"type\": \"tool_call\",\n",
    "        },\n",
    "        {\n",
    "            \"name\": \"get_target_nodes\",\n",
    "            \"args\": {\"node_id\": 4},\n",
    "            \"id\": \"tool_call_id\",\n",
    "            \"type\": \"tool_call\",\n",
    "        },\n",
    "    ],\n",
    ")\n",
    "\n",
    "tool_node.invoke({\"messages\": [message_with_multiple_tool_calls]})"
   ]
  },
  {
   "cell_type": "markdown",
   "metadata": {},
   "source": [
    "#### Tools with LLM"
   ]
  },
  {
   "cell_type": "code",
   "execution_count": 10,
   "metadata": {},
   "outputs": [],
   "source": [
    "query = \"what's graph's kst_one node 3?. Respond with: The number is: \""
   ]
  },
  {
   "cell_type": "code",
   "execution_count": 11,
   "metadata": {},
   "outputs": [],
   "source": [
    "query = \"Retrieve all target nodes for node 3?. Respond with explanation as if you are a Data Science Tutor. \""
   ]
  },
  {
   "cell_type": "code",
   "execution_count": 12,
   "metadata": {},
   "outputs": [],
   "source": [
    "llm = ChatOpenAI(openai_api_key=proxy_api, model = \"gpt-4o-mini\", temperature=0.2, base_url = 'https://api.proxyapi.ru/openai/v1').bind_tools(tools)"
   ]
  },
  {
   "cell_type": "code",
   "execution_count": 13,
   "metadata": {},
   "outputs": [
    {
     "data": {
      "text/plain": [
       "AIMessage(content='', additional_kwargs={'tool_calls': [{'id': 'call_HrKcpL0Cv4j6gutbn9rr8exq', 'function': {'arguments': '{\"node_id\":3}', 'name': 'get_target_nodes'}, 'type': 'function'}]}, response_metadata={'token_usage': {'completion_tokens': 16, 'prompt_tokens': 100, 'total_tokens': 116, 'completion_tokens_details': {'reasoning_tokens': 0}}, 'model_name': 'gpt-4o-mini-2024-07-18', 'system_fingerprint': 'fp_f85bea6784', 'finish_reason': 'tool_calls', 'logprobs': None}, id='run-65d1cc65-3162-484a-9f20-d6d83d15f442-0', tool_calls=[{'name': 'get_target_nodes', 'args': {'node_id': 3}, 'id': 'call_HrKcpL0Cv4j6gutbn9rr8exq', 'type': 'tool_call'}], usage_metadata={'input_tokens': 100, 'output_tokens': 16, 'total_tokens': 116})"
      ]
     },
     "execution_count": 13,
     "metadata": {},
     "output_type": "execute_result"
    }
   ],
   "source": [
    "llm.invoke(query)"
   ]
  },
  {
   "cell_type": "code",
   "execution_count": 14,
   "metadata": {},
   "outputs": [
    {
     "data": {
      "text/plain": [
       "{'messages': [ToolMessage(content='[{\"id\": 4, \"label\": \"A.2.2 Features and Labels\", \"description\": \"This module focuses on features (independent variables) and labels (dependent variables) in the context of supervised ML tasks. It will explain how features are attributes used by a model to make predictions, while labels are the outcomes the model is trying to predict. Detailed examples from multiple domains, such as customer segmentation and predictive maintenance, will demonstrate how to distinguish between features and labels. The module will also touch on how to properly select and preprocess features for effective model training.\", \"content\": \"In supervised machine learning (ML), understanding the concepts of features and labels is crucial for building effective models. \\\\n\\\\n**Features** are the individual measurable properties or characteristics of the data that are used by the model to make predictions. They are often referred to as independent variables because they can influence the outcome but are not dependent on it. For example, in a dataset predicting house prices, features might include the size of the house, the number of bedrooms, the location, and the age of the property. Each of these attributes provides valuable information that the model can use to understand the relationship between the features and the target outcome.\\\\n\\\\n**Labels**, on the other hand, are the outcomes that the model is trying to predict. They are known as dependent variables because their values depend on the features. Continuing with the house price example, the label would be the actual price of the house. The goal of the model is to learn from the features to accurately predict this label.\\\\n\\\\nTo effectively train a model, it is essential to select the right features. This involves identifying which attributes are most relevant to the prediction task and ensuring they are in a suitable format for the model. Preprocessing steps may include normalizing numerical values, encoding categorical variables, and handling missing data. \\\\n\\\\nThroughout this module, we will explore various examples from different domains, such as customer segmentation, where features might include age, income, and purchase history, and predictive maintenance, where features could involve machine usage data and sensor readings. By the end of this module, you will have a clear understanding of how to distinguish between features and labels and how to prepare your data for model training.\", \"assessment\": [{\"question\": \"Distinguish between features and labels in examples.\", \"type\": \"matching\", \"items\": [{\"term\": \"Features\", \"definition\": \"Attributes describing data points.\"}, {\"term\": \"Labels\", \"definition\": \"The target variable to predict.\"}], \"answer\": null}], \"prerequisites\": [3], \"level\": 1, \"status\": \"not started\", \"tags\": [\"Data Fundamentals\", \"Features\", \"Labels\"], \"estimated_time\": \"15 minutes\"}]', name='get_target_nodes', tool_call_id='call_108mcWIgCfYYcTgdE8drDWIs')]}"
      ]
     },
     "execution_count": 14,
     "metadata": {},
     "output_type": "execute_result"
    }
   ],
   "source": [
    "tool_node.invoke({\"messages\": [llm.invoke(query)]})"
   ]
  },
  {
   "cell_type": "markdown",
   "metadata": {},
   "source": [
    "#### Agent"
   ]
  },
  {
   "cell_type": "code",
   "execution_count": 15,
   "metadata": {},
   "outputs": [],
   "source": [
    "from langgraph.checkpoint.sqlite import SqliteSaver\n",
    "from langgraph.checkpoint.memory import MemorySaver"
   ]
  },
  {
   "cell_type": "code",
   "execution_count": 16,
   "metadata": {},
   "outputs": [],
   "source": [
    "memory = SqliteSaver.from_conn_string(\":memory:\")"
   ]
  },
  {
   "cell_type": "code",
   "execution_count": 17,
   "metadata": {},
   "outputs": [],
   "source": [
    "from typing import Literal\n",
    "\n",
    "from langgraph.graph import StateGraph, MessagesState\n",
    "\n",
    "\n",
    "def should_continue(state: MessagesState) -> Literal[\"tools\", \"__end__\"]:\n",
    "    messages = state[\"messages\"]\n",
    "    last_message = messages[-1]\n",
    "    if last_message.tool_calls:\n",
    "        return \"tools\"\n",
    "    return \"__end__\"\n",
    "\n",
    "\n",
    "def call_model(state: MessagesState):\n",
    "    messages = state[\"messages\"]\n",
    "    response = llm.invoke(messages)\n",
    "    return {\"messages\": [response]}\n",
    "\n",
    "\n",
    "workflow = StateGraph(MessagesState)\n",
    "\n",
    "workflow.add_node(\"agent\", call_model)\n",
    "workflow.add_node(\"tools\", tool_node)\n",
    "\n",
    "workflow.add_edge(\"__start__\", \"agent\")\n",
    "workflow.add_conditional_edges(\n",
    "    \"agent\",\n",
    "    should_continue,\n",
    ")\n",
    "workflow.add_edge(\"tools\", \"agent\")\n",
    "\n",
    "app = workflow.compile()"
   ]
  },
  {
   "cell_type": "code",
   "execution_count": 18,
   "metadata": {},
   "outputs": [
    {
     "data": {
      "image/jpeg": "[encoded data removed]",
      "text/plain": [
       "<IPython.core.display.Image object>"
      ]
     },
     "metadata": {},
     "output_type": "display_data"
    }
   ],
   "source": [
    "from IPython.display import Image, display\n",
    "\n",
    "try:\n",
    "    display(Image(app.get_graph().draw_mermaid_png()))\n",
    "except Exception:\n",
    "    # This requires some extra dependencies and is optional\n",
    "    pass"
   ]
  },
  {
   "cell_type": "code",
   "execution_count": 19,
   "metadata": {},
   "outputs": [
    {
     "name": "stdout",
     "output_type": "stream",
     "text": [
      "================================\u001b[1m Human Message \u001b[0m=================================\n",
      "\n",
      "Retrieve all target nodes for node 3?. Respond with explanation as if you are a Data Science Tutor. \n",
      "==================================\u001b[1m Ai Message \u001b[0m==================================\n",
      "Tool Calls:\n",
      "  get_target_nodes (call_34HildHPuGHpIe6VJazm8uXi)\n",
      " Call ID: call_34HildHPuGHpIe6VJazm8uXi\n",
      "  Args:\n",
      "    node_id: 3\n",
      "=================================\u001b[1m Tool Message \u001b[0m=================================\n",
      "Name: get_target_nodes\n",
      "\n",
      "[{\"id\": 4, \"label\": \"A.2.2 Features and Labels\", \"description\": \"This module focuses on features (independent variables) and labels (dependent variables) in the context of supervised ML tasks. It will explain how features are attributes used by a model to make predictions, while labels are the outcomes the model is trying to predict. Detailed examples from multiple domains, such as customer segmentation and predictive maintenance, will demonstrate how to distinguish between features and labels. The module will also touch on how to properly select and preprocess features for effective model training.\", \"content\": \"In supervised machine learning (ML), understanding the concepts of features and labels is crucial for building effective models. \\n\\n**Features** are the individual measurable properties or characteristics of the data that are used by the model to make predictions. They are often referred to as independent variables because they can influence the outcome but are not dependent on it. For example, in a dataset predicting house prices, features might include the size of the house, the number of bedrooms, the location, and the age of the property. Each of these attributes provides valuable information that the model can use to understand the relationship between the features and the target outcome.\\n\\n**Labels**, on the other hand, are the outcomes that the model is trying to predict. They are known as dependent variables because their values depend on the features. Continuing with the house price example, the label would be the actual price of the house. The goal of the model is to learn from the features to accurately predict this label.\\n\\nTo effectively train a model, it is essential to select the right features. This involves identifying which attributes are most relevant to the prediction task and ensuring they are in a suitable format for the model. Preprocessing steps may include normalizing numerical values, encoding categorical variables, and handling missing data. \\n\\nThroughout this module, we will explore various examples from different domains, such as customer segmentation, where features might include age, income, and purchase history, and predictive maintenance, where features could involve machine usage data and sensor readings. By the end of this module, you will have a clear understanding of how to distinguish between features and labels and how to prepare your data for model training.\", \"assessment\": [{\"question\": \"Distinguish between features and labels in examples.\", \"type\": \"matching\", \"items\": [{\"term\": \"Features\", \"definition\": \"Attributes describing data points.\"}, {\"term\": \"Labels\", \"definition\": \"The target variable to predict.\"}], \"answer\": null}], \"prerequisites\": [3], \"level\": 1, \"status\": \"not started\", \"tags\": [\"Data Fundamentals\", \"Features\", \"Labels\"], \"estimated_time\": \"15 minutes\"}]\n",
      "==================================\u001b[1m Ai Message \u001b[0m==================================\n",
      "\n",
      "Node 3 has a target node with the following details:\n",
      "\n",
      "### Target Node: Node 4\n",
      "- **Label**: A.2.2 Features and Labels\n",
      "- **Description**: This module focuses on features (independent variables) and labels (dependent variables) in the context of supervised machine learning (ML) tasks. It explains how features are attributes used by a model to make predictions, while labels are the outcomes the model is trying to predict. The module includes detailed examples from various domains, such as customer segmentation and predictive maintenance, demonstrating how to distinguish between features and labels. It also covers how to properly select and preprocess features for effective model training.\n",
      "- **Content Overview**:\n",
      "  - **Features**: These are measurable properties or characteristics of the data that influence the outcome but are not dependent on it. For example, in predicting house prices, features might include the size of the house, number of bedrooms, location, and age of the property.\n",
      "  - **Labels**: These are the outcomes that the model aims to predict, known as dependent variables. In the house price example, the label would be the actual price of the house.\n",
      "  - **Model Training**: Selecting the right features is crucial for effective model training. This involves identifying relevant attributes and ensuring they are formatted correctly for the model. Preprocessing steps may include normalizing numerical values, encoding categorical variables, and handling missing data.\n",
      "  - **Examples**: The module explores examples from different domains, such as customer segmentation (features like age, income, and purchase history) and predictive maintenance (features involving machine usage data and sensor readings).\n",
      "\n",
      "### Assessment:\n",
      "- The module includes an assessment question that asks learners to distinguish between features and labels using a matching format.\n",
      "\n",
      "### Prerequisites:\n",
      "- This module has a prerequisite of Node 3, indicating that learners should have completed the previous module before starting this one.\n",
      "\n",
      "### Level and Estimated Time:\n",
      "- The module is categorized as Level 1 and is estimated to take about 15 minutes to complete.\n",
      "\n",
      "### Tags:\n",
      "- The content is tagged under \"Data Fundamentals,\" \"Features,\" and \"Labels,\" indicating its relevance to foundational concepts in data science.\n",
      "\n",
      "This target node is essential for understanding the foundational concepts of features and labels in supervised machine learning, which are critical for building effective predictive models.\n"
     ]
    }
   ],
   "source": [
    "for chunk in app.stream(\n",
    "    {\"messages\": [(\"human\", query)]}, stream_mode=\"values\"\n",
    "):\n",
    "    chunk[\"messages\"][-1].pretty_print()"
   ]
  },
  {
   "cell_type": "markdown",
   "metadata": {},
   "source": []
  },
  {
   "cell_type": "code",
   "execution_count": 20,
   "metadata": {},
   "outputs": [],
   "source": [
    "class AgentState(TypedDict):\n",
    "    messages: Annotated[list[AnyMessage], operator.add]"
   ]
  },
  {
   "cell_type": "code",
   "execution_count": 21,
   "metadata": {},
   "outputs": [
    {
     "ename": "AttributeError",
     "evalue": "'function' object has no attribute 'name'",
     "output_type": "error",
     "traceback": [
      "\u001b[0;31m---------------------------------------------------------------------------\u001b[0m",
      "\u001b[0;31mAttributeError\u001b[0m                            Traceback (most recent call last)",
      "Cell \u001b[0;32mIn[21], line 80\u001b[0m\n\u001b[1;32m     73\u001b[0m prompt \u001b[38;5;241m=\u001b[39m \u001b[38;5;124m\"\"\"\u001b[39m\u001b[38;5;124mYou are a smart KST graph query specialist \u001b[39m\u001b[38;5;130;01m\\\u001b[39;00m\n\u001b[1;32m     74\u001b[0m \u001b[38;5;124mYou are allowed to make multiple calls (either together or in sequence). \u001b[39m\u001b[38;5;130;01m\\\u001b[39;00m\n\u001b[1;32m     75\u001b[0m \u001b[38;5;124mOnly look up information when you are sure of what you want. \u001b[39m\u001b[38;5;130;01m\\\u001b[39;00m\n\u001b[1;32m     76\u001b[0m \u001b[38;5;124mIf you need to look up some information before asking a follow up question, you are allowed to do that!\u001b[39m\n\u001b[1;32m     77\u001b[0m \u001b[38;5;124m\"\"\"\u001b[39m\n\u001b[1;32m     78\u001b[0m model \u001b[38;5;241m=\u001b[39m ChatOpenAI(model\u001b[38;5;241m=\u001b[39m\u001b[38;5;124m\"\u001b[39m\u001b[38;5;124mgpt-4o-mini\u001b[39m\u001b[38;5;124m\"\u001b[39m)\n\u001b[0;32m---> 80\u001b[0m abot \u001b[38;5;241m=\u001b[39m \u001b[43mAgent\u001b[49m\u001b[43m(\u001b[49m\u001b[43mmodel\u001b[49m\u001b[43m,\u001b[49m\u001b[43m \u001b[49m\u001b[43m[\u001b[49m\u001b[43mtool\u001b[49m\u001b[43m]\u001b[49m\u001b[43m,\u001b[49m\u001b[43m \u001b[49m\u001b[43msystem\u001b[49m\u001b[43m \u001b[49m\u001b[38;5;241;43m=\u001b[39;49m\u001b[43m \u001b[49m\u001b[43mprompt\u001b[49m\u001b[43m,\u001b[49m\u001b[43m \u001b[49m\u001b[43mcheckpointer\u001b[49m\u001b[43m \u001b[49m\u001b[38;5;241;43m=\u001b[39;49m\u001b[43m \u001b[49m\u001b[43mMemorySaver\u001b[49m\u001b[43m(\u001b[49m\u001b[43m)\u001b[49m\u001b[43m)\u001b[49m\n",
      "Cell \u001b[0;32mIn[21], line 49\u001b[0m, in \u001b[0;36mAgent.__init__\u001b[0;34m(self, model, tools, checkpointer, system)\u001b[0m\n\u001b[1;32m     47\u001b[0m graph\u001b[38;5;241m.\u001b[39mset_entry_point(\u001b[38;5;124m\"\u001b[39m\u001b[38;5;124mllm\u001b[39m\u001b[38;5;124m\"\u001b[39m)\n\u001b[1;32m     48\u001b[0m \u001b[38;5;28mself\u001b[39m\u001b[38;5;241m.\u001b[39mgraph \u001b[38;5;241m=\u001b[39m graph\u001b[38;5;241m.\u001b[39mcompile(checkpointer\u001b[38;5;241m=\u001b[39mcheckpointer)\n\u001b[0;32m---> 49\u001b[0m \u001b[38;5;28mself\u001b[39m\u001b[38;5;241m.\u001b[39mtools \u001b[38;5;241m=\u001b[39m {\u001b[43mt\u001b[49m\u001b[38;5;241;43m.\u001b[39;49m\u001b[43mname\u001b[49m: t \u001b[38;5;28;01mfor\u001b[39;00m t \u001b[38;5;129;01min\u001b[39;00m tools}\n\u001b[1;32m     50\u001b[0m \u001b[38;5;28mself\u001b[39m\u001b[38;5;241m.\u001b[39mmodel \u001b[38;5;241m=\u001b[39m model\u001b[38;5;241m.\u001b[39mbind_tools(tools)\n",
      "\u001b[0;31mAttributeError\u001b[0m: 'function' object has no attribute 'name'"
     ]
    }
   ],
   "source": [
    "@tool\n",
    "def get_node_by_id(node_id: int):\n",
    "    \"\"\"\n",
    "    Retrieve a node by its ID.\n",
    "    \"\"\"\n",
    "    for node in kst_one['nodes']:\n",
    "        if node['id'] == int(node_id):\n",
    "            label = node['label']\n",
    "            content = node['content']\n",
    "            return label + ': ' + content\n",
    "        \n",
    "    raise KeyError(f\"Node with ID {node_id} not found.\")\n",
    "    # return 1\n",
    "\n",
    "@tool\n",
    "def get_target_nodes(node_id):\n",
    "    \"\"\"\n",
    "    Retrieve all target nodes that the given node points to (outgoing connections).\n",
    "    \"\"\"\n",
    "    target_nodes = []\n",
    "    for edge in kst_one['edges']:\n",
    "        if edge['source'] == int(node_id):\n",
    "            for connection in edge.get('connections', []):\n",
    "                target_node = None\n",
    "                for node in kst_one['nodes']:\n",
    "                    if node['id'] == connection['target']:\n",
    "                        target_node = node\n",
    "                        break\n",
    "                if target_node:\n",
    "                    target_nodes.append(target_node)\n",
    "\n",
    "    return target_nodes\n",
    "\n",
    "\n",
    "\n",
    "class AgentState(TypedDict):\n",
    "    messages: Annotated[list[AnyMessage], operator.add]\n",
    "\n",
    "class Agent:\n",
    "    def __init__(self, model, tools, checkpointer, system=\"\"):\n",
    "        self.system = system\n",
    "        graph = StateGraph(AgentState)\n",
    "        graph.add_node(\"llm\", self.call_openai)\n",
    "        graph.add_node(\"action\", self.take_action)\n",
    "        graph.add_conditional_edges(\"llm\", self.exists_action, {True: \"action\", False: END})\n",
    "        graph.add_edge(\"action\", \"llm\")\n",
    "        graph.set_entry_point(\"llm\")\n",
    "        self.graph = graph.compile(checkpointer=checkpointer)\n",
    "        self.tools = {t.name: t for t in tools}\n",
    "        self.model = model.bind_tools(tools)\n",
    "\n",
    "    def call_openai(self, state: AgentState):\n",
    "        messages = state['messages']\n",
    "        if self.system:\n",
    "            messages = [SystemMessage(content=self.system)] + messages\n",
    "        message = self.model.invoke(messages)\n",
    "        return {'messages': [message]}\n",
    "\n",
    "    def exists_action(self, state: AgentState):\n",
    "        result = state['messages'][-1]\n",
    "        return len(result.tool_calls) > 0\n",
    "\n",
    "    def take_action(self, state: AgentState):\n",
    "        tool_calls = state['messages'][-1].tool_calls\n",
    "        results = []\n",
    "        for t in tool_calls:\n",
    "            print(f\"Calling: {t}\")\n",
    "            result = self.tools[t['name']].invoke(t['args'])\n",
    "            results.append(ToolMessage(tool_call_id=t['id'], name=t['name'], content=str(result)))\n",
    "        print(\"Back to the model!\")\n",
    "        return {'messages': results}\n",
    "    \n",
    "prompt = \"\"\"You are a smart KST graph query specialist \\\n",
    "You are allowed to make multiple calls (either together or in sequence). \\\n",
    "Only look up information when you are sure of what you want. \\\n",
    "If you need to look up some information before asking a follow up question, you are allowed to do that!\n",
    "\"\"\"\n",
    "model = ChatOpenAI(model=\"gpt-4o-mini\")\n",
    " \n",
    "abot = Agent(model, [tool], system = prompt, checkpointer = MemorySaver())"
   ]
  },
  {
   "cell_type": "code",
   "execution_count": 22,
   "metadata": {},
   "outputs": [],
   "source": [
    "@tool\n",
    "def get_node_by_id(node_id: int):\n",
    "    \"\"\"\n",
    "    Retrieve a node by its ID.\n",
    "    \"\"\"\n",
    "    for node in kst_one['nodes']:\n",
    "        if node['id'] == int(node_id):\n",
    "            label = node['label']\n",
    "            content = node['content']\n",
    "            return label + ': ' + content\n",
    "        \n",
    "    raise KeyError(f\"Node with ID {node_id} not found.\")\n",
    "\n",
    "@tool\n",
    "def get_target_nodes(node_id: int):\n",
    "    \"\"\"\n",
    "    Retrieve all target nodes that the given node points to (outgoing connections).\n",
    "    \"\"\"\n",
    "    target_nodes = []\n",
    "    for edge in kst_one['edges']:\n",
    "        if edge['source'] == int(node_id):\n",
    "            for connection in edge.get('connections', []):\n",
    "                target_node = None\n",
    "                for node in kst_one['nodes']:\n",
    "                    if node['id'] == connection['target']:\n",
    "                        target_node = node\n",
    "                        break\n",
    "                if target_node:\n",
    "                    target_nodes.append(target_node)\n",
    "\n",
    "    return target_nodes\n",
    "\n",
    "class AgentState(TypedDict):\n",
    "    messages: Annotated[list[AnyMessage], operator.add]\n",
    "\n",
    "class Agent:\n",
    "    def __init__(self, model, tools, checkpointer, system=\"\"):\n",
    "        self.system = system\n",
    "        graph = StateGraph(AgentState)\n",
    "        graph.add_node(\"llm\", self.call_openai)\n",
    "        graph.add_node(\"action\", self.take_action)\n",
    "        graph.add_conditional_edges(\"llm\", self.exists_action, {True: \"action\", False: END})\n",
    "        graph.add_edge(\"action\", \"llm\")\n",
    "        graph.set_entry_point(\"llm\")\n",
    "        self.graph = graph.compile(checkpointer=checkpointer)\n",
    "        self.tools = {t.name: t for t in tools}\n",
    "        self.model = model.bind_tools(tools)\n",
    "\n",
    "    def call_openai(self, state: AgentState):\n",
    "        messages = state['messages']\n",
    "        if self.system:\n",
    "            messages = [SystemMessage(content=self.system)] + messages\n",
    "        message = self.model.invoke(messages)\n",
    "        return {'messages': [message]}\n",
    "\n",
    "    def exists_action(self, state: AgentState):\n",
    "        result = state['messages'][-1]\n",
    "        return len(result.tool_calls) > 0\n",
    "\n",
    "    def take_action(self, state: AgentState):\n",
    "        tool_calls = state['messages'][-1].tool_calls\n",
    "        results = []\n",
    "        for t in tool_calls:\n",
    "            print(f\"Calling: {t}\")\n",
    "            result = self.tools[t['name']].invoke(t['args'])\n",
    "            results.append(ToolMessage(tool_call_id=t['id'], name=t['name'], content=str(result)))\n",
    "        print(\"Back to the model!\")\n",
    "        return {'messages': results}\n",
    "\n",
    "prompt = \"\"\"You are a smart KST graph query specialist \\\n",
    "You are allowed to make multiple calls (either together or in sequence). \\\n",
    "Only look up information when you are sure of what you want. \\\n",
    "If you need to look up some information before asking a follow up question, you are allowed to do that!\n",
    "\"\"\"\n",
    "\n",
    "abot = Agent(llm, [get_node_by_id, get_target_nodes], system=prompt, checkpointer=MemorySaver())"
   ]
  },
  {
   "cell_type": "code",
   "execution_count": 23,
   "metadata": {},
   "outputs": [],
   "source": [
    "messages = [HumanMessage(content=\"what's graph's kst_one node 3?. Respond with: The number is: \")]"
   ]
  },
  {
   "cell_type": "code",
   "execution_count": 24,
   "metadata": {},
   "outputs": [],
   "source": [
    "thread = {\"configurable\": {\"thread_id\": \"1\"}}"
   ]
  },
  {
   "cell_type": "code",
   "execution_count": 25,
   "metadata": {},
   "outputs": [
    {
     "name": "stdout",
     "output_type": "stream",
     "text": [
      "[AIMessage(content='', additional_kwargs={'tool_calls': [{'id': 'call_8WfmH9nV0xdZkRtjnabVoUvd', 'function': {'arguments': '{\"node_id\":3}', 'name': 'get_node_by_id'}, 'type': 'function'}]}, response_metadata={'token_usage': {'completion_tokens': 17, 'prompt_tokens': 155, 'total_tokens': 172, 'completion_tokens_details': {'reasoning_tokens': 0}}, 'model_name': 'gpt-4o-mini-2024-07-18', 'system_fingerprint': 'fp_f85bea6784', 'finish_reason': 'tool_calls', 'logprobs': None}, id='run-9cbeff87-b526-4670-b840-8eefd922d5ee-0', tool_calls=[{'name': 'get_node_by_id', 'args': {'node_id': 3}, 'id': 'call_8WfmH9nV0xdZkRtjnabVoUvd', 'type': 'tool_call'}], usage_metadata={'input_tokens': 155, 'output_tokens': 17, 'total_tokens': 172})]\n",
      "Calling: {'name': 'get_node_by_id', 'args': {'node_id': 3}, 'id': 'call_8WfmH9nV0xdZkRtjnabVoUvd', 'type': 'tool_call'}\n",
      "Back to the model!\n",
      "[ToolMessage(content='A.2.1 Understanding Datasets: In the realm of Machine Learning (ML), a dataset serves as the cornerstone for developing predictive models. A dataset is essentially a collection of data that is organized in a structured format, typically consisting of rows and columns. Each row represents a single data point or observation, while each column corresponds to a specific feature or attribute of that data point. \\n\\nThere are various types of datasets, each suited for different applications in ML:\\n\\n1. **Tabular Data**: This is the most common format, where data is organized in tables with rows and columns. Each column contains a specific type of information, such as numerical values or categorical labels. For example, a dataset of customer information might include columns for age, gender, and purchase history.\\n\\n2. **Image Data**: This type of dataset consists of images, which can be used for tasks such as image classification or object detection. Each image can be represented as a matrix of pixel values, where each pixel has color information.\\n\\n3. **Time-Series Data**: This dataset is used to track changes over time, such as stock prices or weather conditions. Each data point is associated with a specific timestamp, allowing for analysis of trends and patterns over time.\\n\\nUnderstanding the structure and types of datasets is essential for effectively training ML models. For instance, structured data (like tabular data) is easier to analyze and process compared to unstructured data (like images or text), which may require additional preprocessing steps. \\n\\nThrough practical examples, learners will gain insights into how datasets are utilized in ML, including how to clean, preprocess, and transform data to make it suitable for model training. Additionally, learners will learn to distinguish between structured and unstructured data in various scenarios, enhancing their ability to work with diverse datasets in real-world applications.', name='get_node_by_id', tool_call_id='call_8WfmH9nV0xdZkRtjnabVoUvd')]\n",
      "[AIMessage(content='The number is: A.2.1 Understanding Datasets: In the realm of Machine Learning (ML), a dataset serves as the cornerstone for developing predictive models. A dataset is essentially a collection of data that is organized in a structured format, typically consisting of rows and columns. Each row represents a single data point or observation, while each column corresponds to a specific feature or attribute of that data point. \\n\\nThere are various types of datasets, each suited for different applications in ML:\\n\\n1. **Tabular Data**: This is the most common format, where data is organized in tables with rows and columns. Each column contains a specific type of information, such as numerical values or categorical labels. For example, a dataset of customer information might include columns for age, gender, and purchase history.\\n\\n2. **Image Data**: This type of dataset consists of images, which can be used for tasks such as image classification or object detection. Each image can be represented as a matrix of pixel values, where each pixel has color information.\\n\\n3. **Time-Series Data**: This dataset is used to track changes over time, such as stock prices or weather conditions. Each data point is associated with a specific timestamp, allowing for analysis of trends and patterns over time.\\n\\nUnderstanding the structure and types of datasets is essential for effectively training ML models. For instance, structured data (like tabular data) is easier to analyze and process compared to unstructured data (like images or text), which may require additional preprocessing steps. \\n\\nThrough practical examples, learners will gain insights into how datasets are utilized in ML, including how to clean, preprocess, and transform data to make it suitable for model training. Additionally, learners will learn to distinguish between structured and unstructured data in various scenarios, enhancing their ability to work with diverse datasets in real-world applications.', response_metadata={'token_usage': {'completion_tokens': 370, 'prompt_tokens': 547, 'total_tokens': 917, 'completion_tokens_details': {'reasoning_tokens': 0}}, 'model_name': 'gpt-4o-mini-2024-07-18', 'system_fingerprint': 'fp_f85bea6784', 'finish_reason': 'stop', 'logprobs': None}, id='run-8ac2511f-91cb-486c-9f0c-550914069d8b-0', usage_metadata={'input_tokens': 547, 'output_tokens': 370, 'total_tokens': 917})]\n"
     ]
    }
   ],
   "source": [
    "for event in abot.graph.stream({\"messages\": messages}, thread):\n",
    "    for v in event.values():\n",
    "        print(v['messages'])"
   ]
  },
  {
   "cell_type": "code",
   "execution_count": 65,
   "metadata": {},
   "outputs": [
    {
     "name": "stdout",
     "output_type": "stream",
     "text": [
      "{'messages': [AIMessage(content='', additional_kwargs={'tool_calls': [{'id': 'call_fByJatCw4h7EPwjebVe1a3N0', 'function': {'arguments': '{\"node_id\":5}', 'name': 'get_target_nodes'}, 'type': 'function'}]}, response_metadata={'token_usage': {'completion_tokens': 16, 'prompt_tokens': 3446, 'total_tokens': 3462, 'completion_tokens_details': {'reasoning_tokens': 0}}, 'model_name': 'gpt-4o-mini-2024-07-18', 'system_fingerprint': 'fp_1bb46167f9', 'finish_reason': 'tool_calls', 'logprobs': None}, id='run-a109d43e-0566-4868-a359-26279feba0dd-0', tool_calls=[{'name': 'get_target_nodes', 'args': {'node_id': 5}, 'id': 'call_fByJatCw4h7EPwjebVe1a3N0', 'type': 'tool_call'}], usage_metadata={'input_tokens': 3446, 'output_tokens': 16, 'total_tokens': 3462})]}\n",
      "Calling: {'name': 'get_target_nodes', 'args': {'node_id': 5}, 'id': 'call_fByJatCw4h7EPwjebVe1a3N0', 'type': 'tool_call'}\n",
      "Back to the model!\n",
      "{'messages': [ToolMessage(content='[{\\'id\\': 6, \\'label\\': \\'A.3.2 Understanding Algorithms\\', \\'description\\': \\'This module introduces algorithms, the set of rules that guide the training of ML models. Learners will explore different categories of ML algorithms such as supervised, unsupervised, and reinforcement learning algorithms. Examples of popular algorithms, like linear regression, decision trees, and neural networks, will be covered in detail. The focus will be on how these algorithms learn from data, adjust model parameters, and how the choice of algorithm impacts the performance and applicability of the model in real-world tasks.\\', \\'content\\': \"In this module, we will delve into the fundamental concept of algorithms in machine learning (ML). An algorithm is essentially a set of instructions or rules that a computer follows to perform a task. In the context of ML, algorithms are used to analyze data, learn from it, and make predictions or decisions based on that data.\\\\n\\\\nWe categorize ML algorithms into three main types:\\\\n\\\\n1. **Supervised Learning Algorithms**: These algorithms learn from labeled data, which means that the input data is paired with the correct output. The algorithm\\'s goal is to learn a mapping from inputs to outputs so that it can predict the output for new, unseen data. Common examples include:\\\\n   - **Linear Regression**: Used for predicting continuous values, such as prices or temperatures, based on input features.\\\\n   - **Decision Trees**: A flowchart-like structure that makes decisions based on the input features, useful for both classification and regression tasks.\\\\n\\\\n2. **Unsupervised Learning Algorithms**: Unlike supervised learning, these algorithms work with unlabeled data. The goal is to identify patterns or groupings within the data. Examples include:\\\\n   - **K-Means Clustering**: A method that groups data points into clusters based on their similarities.\\\\n   - **Principal Component Analysis (PCA)**: A technique used to reduce the dimensionality of data while preserving as much variance as possible.\\\\n\\\\n3. **Reinforcement Learning Algorithms**: These algorithms learn by interacting with an environment and receiving feedback in the form of rewards or penalties. The algorithm aims to learn a policy that maximizes the cumulative reward over time. A popular example is:\\\\n   - **Q-Learning**: A model-free reinforcement learning algorithm that learns the value of actions in a given state to make optimal decisions.\\\\n\\\\nUnderstanding how these algorithms work is crucial for selecting the right one for a specific problem. Each algorithm has its strengths and weaknesses, and the choice of algorithm can significantly impact the performance and applicability of the model in real-world tasks. For instance, linear regression is simple and interpretable but may not capture complex relationships in data, while neural networks can model intricate patterns but require more data and computational resources.\\\\n\\\\nIn summary, this module will equip you with the foundational knowledge of various ML algorithms, their categories, and their practical implications in solving real-world problems.\", \\'assessment\\': [{\\'question\\': \\'Provide examples of Machine Learning algorithms.\\', \\'type\\': \\'open-ended\\', \\'answer\\': None}], \\'prerequisites\\': [5], \\'level\\': 1, \\'status\\': \\'not started\\', \\'tags\\': [\\'Models and Algorithms\\', \\'Algorithm\\'], \\'estimated_time\\': \\'15 minutes\\'}, {\\'id\\': 7, \\'label\\': \\'A.4.1 Overview of Supervised Learning\\', \\'description\\': \\'Supervised learning is the most common type of ML, where the model is trained using labeled data (input-output pairs). This module will describe the process of supervised learning, including how the model learns a mapping from input features to output labels. Learners will explore key applications, such as email classification and fraud detection, and understand the advantages and limitations of supervised learning. A focus will be placed on the concept of training, validation, and testing in a supervised learning framework.\\', \\'content\\': \"Supervised learning is a fundamental concept in machine learning that involves training a model on a dataset that contains both input data and the corresponding correct output. This approach is akin to a teacher guiding a student by providing examples and the correct answers, allowing the model to learn from these examples. \\\\n\\\\n### Key Concepts:\\\\n1. **Labeled Data**: In supervised learning, each training example consists of an input (features) and an output (label). For instance, in an email classification task, the input could be the text of the email, and the output could be a label indicating whether the email is \\'spam\\' or \\'not spam\\'. \\\\n\\\\n2. **Training Process**: The model learns by adjusting its parameters to minimize the difference between its predictions and the actual labels in the training data. This process is often achieved through algorithms such as linear regression, decision trees, or neural networks.\\\\n\\\\n3. **Validation and Testing**: To ensure that the model generalizes well to unseen data, it is essential to split the dataset into three parts: training, validation, and testing. The training set is used to train the model, the validation set is used to tune the model\\'s parameters, and the testing set is used to evaluate the model\\'s performance.\\\\n\\\\n### Applications of Supervised Learning:\\\\n- **Email Classification**: Automatically categorizing emails into different folders (e.g., spam, promotions, primary).\\\\n- **Fraud Detection**: Identifying fraudulent transactions by analyzing patterns in historical transaction data.\\\\n\\\\n### Advantages and Limitations:\\\\n- **Advantages**: Supervised learning can achieve high accuracy when sufficient labeled data is available. It is also relatively straightforward to understand and implement.\\\\n- **Limitations**: The need for labeled data can be a significant drawback, as labeling data can be time-consuming and expensive. Additionally, models may not perform well if they encounter data that is significantly different from the training data.\\\\n\\\\nIn summary, supervised learning is a powerful technique in machine learning that relies on labeled data to train models, making it applicable in various real-world scenarios. Understanding the principles of supervised learning is crucial for anyone looking to delve into the field of machine learning.\", \\'assessment\\': [{\\'question\\': \\'Recognize supervised learning scenarios.\\', \\'type\\': \\'multiple-choice\\', \\'options\\': [\\'Learning without labeled data.\\', \\'Learning with labeled input-output pairs.\\', \\'Reinforcing behaviors through rewards.\\'], \\'answer\\': \\'Learning with labeled input-output pairs.\\'}], \\'prerequisites\\': [4, 5, 6], \\'level\\': 1, \\'status\\': \\'not started\\', \\'tags\\': [\\'Types of ML\\', \\'Supervised Learning\\'], \\'estimated_time\\': \\'10 minutes\\'}, {\\'id\\': 10, \\'label\\': \\'A.4.4 Overview of Unsupervised Learning\\', \\'description\\': \\'In contrast to supervised learning, unsupervised learning involves training models on data without explicit labels. This module introduces unsupervised learning techniques, such as clustering and dimensionality reduction, that allow models to find patterns and structures in data. Examples, such as market basket analysis and customer segmentation, will demonstrate real-world use cases. The description will also touch on the limitations of unsupervised learning, such as its reliance on data quality and the challenge of evaluating performance.\\', \\'content\\': \\'Unsupervised learning is a type of machine learning that deals with data that does not have labeled responses. Unlike supervised learning, where the model is trained on a dataset that includes both input features and the corresponding output labels, unsupervised learning focuses solely on the input data. The goal is to identify patterns, groupings, or structures within the data without any prior knowledge of what those patterns might be.\\\\n\\\\n### Key Techniques in Unsupervised Learning\\\\n1. **Clustering**: This technique involves grouping similar data points together. For example, in customer segmentation, businesses can use clustering to identify distinct groups of customers based on purchasing behavior, allowing for targeted marketing strategies.\\\\n\\\\n2. **Dimensionality Reduction**: This technique reduces the number of features in a dataset while preserving its essential characteristics. It is particularly useful in visualizing high-dimensional data and improving the performance of other machine learning algorithms. A common method for dimensionality reduction is Principal Component Analysis (PCA).\\\\n\\\\n### Real-World Applications\\\\n- **Market Basket Analysis**: Retailers use unsupervised learning to analyze customer purchase patterns. By identifying which products are frequently bought together, businesses can optimize product placements and create effective promotions.\\\\n- **Customer Segmentation**: Companies can segment their customers into different groups based on purchasing behavior, demographics, or preferences, enabling personalized marketing and improved customer service.\\\\n\\\\n### Limitations of Unsupervised Learning\\\\nWhile unsupervised learning is powerful, it has its challenges. The quality of the results heavily depends on the quality of the input data. If the data is noisy or contains outliers, the patterns identified may not be meaningful. Additionally, evaluating the performance of unsupervised learning models can be difficult since there are no labels to compare against. Techniques such as silhouette scores or the elbow method can help assess clustering performance, but they are not always definitive.\\\\n\\\\nIn summary, unsupervised learning is a valuable tool for discovering hidden patterns in data, and it has numerous applications across various industries. Understanding its techniques and limitations is crucial for effectively leveraging its capabilities.\\', \\'assessment\\': [{\\'question\\': \\'Recognize unsupervised learning scenarios.\\', \\'type\\': \\'multiple-choice\\', \\'options\\': [\\'Learning from labeled data.\\', \\'Finding patterns in unlabeled data.\\', \\'Optimizing actions based on rewards.\\'], \\'answer\\': \\'Finding patterns in unlabeled data.\\'}], \\'prerequisites\\': [4, 5, 6], \\'level\\': 1, \\'status\\': \\'not started\\', \\'tags\\': [\\'Types of ML\\', \\'Unsupervised Learning\\'], \\'estimated_time\\': \\'10 minutes\\'}]', name='get_target_nodes', tool_call_id='call_fByJatCw4h7EPwjebVe1a3N0')]}\n",
      "{'messages': [AIMessage(content='The next node is: A.3.2 Understanding Algorithms.', response_metadata={'token_usage': {'completion_tokens': 14, 'prompt_tokens': 5475, 'total_tokens': 5489, 'completion_tokens_details': {'reasoning_tokens': 0}}, 'model_name': 'gpt-4o-mini-2024-07-18', 'system_fingerprint': 'fp_1bb46167f9', 'finish_reason': 'stop', 'logprobs': None}, id='run-eef7950a-5934-40b1-9bc1-959aa771c860-0', usage_metadata={'input_tokens': 5475, 'output_tokens': 14, 'total_tokens': 5489})]}\n"
     ]
    }
   ],
   "source": [
    "messages = [HumanMessage(content=\"Which node is next?\")]\n",
    "thread = {\"configurable\": {\"thread_id\": \"1\"}}\n",
    "for event in abot.graph.stream({\"messages\": messages}, thread):\n",
    "    for v in event.values():\n",
    "        print(v)"
   ]
  },
  {
   "cell_type": "code",
   "execution_count": 71,
   "metadata": {},
   "outputs": [
    {
     "name": "stdout",
     "output_type": "stream",
     "text": [
      "<bound method Pregel.get_state of CompiledStateGraph(nodes={'__start__': PregelNode(config={'tags': ['langsmith:hidden'], 'metadata': {}, 'configurable': {}}, channels=['__start__'], triggers=['__start__'], writers=[ChannelWrite<messages>(recurse=True, writes=[ChannelWriteEntry(channel='messages', value=<object object at 0x110104630>, skip_none=False, mapper=_get_state_key(recurse=False))], require_at_least_one_of=['messages']), ChannelWrite<start:llm>(recurse=True, writes=[ChannelWriteEntry(channel='start:llm', value='__start__', skip_none=False, mapper=None)], require_at_least_one_of=None)]), 'llm': PregelNode(config={'tags': [], 'metadata': {}, 'configurable': {}}, channels={'messages': 'messages'}, triggers=['action', 'start:llm'], mapper=functools.partial(<function _coerce_state at 0x110661120>, <class '__main__.AgentState'>), writers=[ChannelWrite<llm,messages>(recurse=True, writes=[ChannelWriteEntry(channel='llm', value='llm', skip_none=False, mapper=None), ChannelWriteEntry(channel='messages', value=<object object at 0x110104630>, skip_none=False, mapper=_get_state_key(recurse=False))], require_at_least_one_of=['messages']), _route(recurse=True, _is_channel_writer=True)]), 'action': PregelNode(config={'tags': [], 'metadata': {}, 'configurable': {}}, channels={'messages': 'messages'}, triggers=['branch:llm:exists_action:action'], mapper=functools.partial(<function _coerce_state at 0x110661120>, <class '__main__.AgentState'>), writers=[ChannelWrite<action,messages>(recurse=True, writes=[ChannelWriteEntry(channel='action', value='action', skip_none=False, mapper=None), ChannelWriteEntry(channel='messages', value=<object object at 0x110104630>, skip_none=False, mapper=_get_state_key(recurse=False))], require_at_least_one_of=['messages'])])}, channels={'messages': <langgraph.channels.binop.BinaryOperatorAggregate object at 0x1122ae750>, '__start__': <langgraph.channels.ephemeral_value.EphemeralValue object at 0x1124b5310>, 'llm': <langgraph.channels.ephemeral_value.EphemeralValue object at 0x110d8acf0>, 'action': <langgraph.channels.ephemeral_value.EphemeralValue object at 0x1124b75f0>, 'start:llm': <langgraph.channels.ephemeral_value.EphemeralValue object at 0x1124b4f50>, 'branch:llm:exists_action:action': <langgraph.channels.ephemeral_value.EphemeralValue object at 0x1124b45f0>}, auto_validate=False, stream_mode='updates', output_channels=['messages'], stream_channels=['messages'], input_channels='__start__', checkpointer=<langgraph.checkpoint.memory.MemorySaver object at 0x110cda8d0>, builder=<langgraph.graph.state.StateGraph object at 0x110d73a70>)>\n"
     ]
    }
   ],
   "source": [
    "abot.graph.get_state"
   ]
  },
  {
   "cell_type": "code",
   "execution_count": 27,
   "metadata": {},
   "outputs": [
    {
     "name": "stdout",
     "output_type": "stream",
     "text": [
      "Datas|ets| are| fundamental| components| in| the| field| of| data| science| and| machine| learning|.| They| serve| as| the| foundation| for| developing| predictive| models| and| conducting| analyses|.| Here's| an| overview| of| what| datasets| are|,| their| types|,| and| their| importance|:\n",
      "\n",
      "|###| What| is| a| Dataset|?\n",
      "|A| dataset| is| a| collection| of| data| organized| in| a| structured| format|,| typically| consisting| of| rows| and| columns|.| Each| row| represents| a| single| observation| or| data| point|,| while| each| column| corresponds| to| a| specific| feature| or| attribute| of| that| observation|.\n",
      "\n",
      "|###| Types| of| D|atasets|\n",
      "\n",
      "|1|.| **|Tab|ular| Data|**|:\n",
      "|  | -| This| is| the| most| common| format|,| where| data| is| organized| in| tables|.\n",
      "|  | -| Each| column| contains| a| specific| type| of| information|,| such| as| numerical| values| or| categorical| labels|.\n",
      "|  | -| Example|:| A| dataset| of| customer| information| might| include| columns| for| age|,| gender|,| and| purchase| history|.\n",
      "\n",
      "|2|.| **|Image| Data|**|:\n",
      "|  | -| Cons|ists| of| images| used| for| tasks| like| image| classification| or| object| detection|.\n",
      "|  | -| Each| image| can| be| represented| as| a| matrix| of| pixel| values|,| where| each| pixel| has| color| information|.\n",
      "\n",
      "|3|.| **|Time|-Series| Data|**|:\n",
      "|  | -| Used| to| track| changes| over| time|,| such| as| stock| prices| or| weather| conditions|.\n",
      "|  | -| Each| data| point| is| associated| with| a| specific| timestamp|,| allowing| for| analysis| of| trends| and| patterns| over| time|.\n",
      "\n",
      "|4|.| **|Text| Data|**|:\n",
      "|  | -| Com|prises| un|structured| data| in| the| form| of| text|,| such| as| articles|,| reviews|,| or| social| media| posts|.\n",
      "|  | -| Requires| preprocessing| to| convert| text| into| a| structured| format| for| analysis|.\n",
      "\n",
      "|5|.| **|Audio| Data|**|:\n",
      "|  | -| Cons|ists| of| sound| recordings|,| which| can| be| used| for| tasks| like| speech| recognition| or| music| classification|.\n",
      "|  | -| Audio| data| is| often| represented| as| wave|forms| or| spect|rogram|s|.\n",
      "\n",
      "|###| Importance| of| D|atasets|\n",
      "|-| **|Model| Training|**|:| D|atasets| are| crucial| for| training| machine| learning| models|.| The| quality| and| quantity| of| data| directly| impact| the| model|'s| performance|.\n",
      "|-| **|Data| Cleaning| and| Pre|processing|**|:| Before| using| datasets|,| they| often| require| cleaning| and| preprocessing| to| handle| missing| values|,| out|liers|,| and| inconsist|encies|.\n",
      "|-| **|Feature| Engineering|**|:| Selecting| and| transforming| features| from| the| dataset| can| enhance| model| accuracy|.\n",
      "|-| **|Evaluation|**|:| D|atasets| are| used| to| evaluate| model| performance| through| techniques| like| cross|-validation| and| testing| on| unseen| data|.\n",
      "\n",
      "|###| Practical| Applications|\n",
      "|-| D|atasets| are| used| in| various| applications|,| including|:\n",
      "| | -| Predict|ive| analytics| (|e|.g|.,| forecasting| sales|)\n",
      "| | -| Image| recognition| (|e|.g|.,| identifying| objects| in| photos|)\n",
      "| | -| Natural| language| processing| (|e|.g|.,| sentiment| analysis|)\n",
      "| | -| Time|-series| forecasting| (|e|.g|.,| predicting| stock| prices|)\n",
      "\n",
      "|Understanding| datasets| is| essential| for| anyone| looking| to| work| in| data| science| or| machine| learning|,| as| they| form| the| basis| for| analysis|,| model| training|,| and| decision|-making|.|"
     ]
    }
   ],
   "source": [
    "messages = [HumanMessage(content = \"Teach me about dasasets\")]\n",
    "thread = {\"configurable\": {\"thread_id\": \"4\"}}\n",
    "\n",
    "async for event in abot.graph.astream_events({\"messages\": messages}, thread, version=\"v1\"):\n",
    "    kind = event[\"event\"]\n",
    "    if kind == \"on_chat_model_stream\":\n",
    "        content = event[\"data\"][\"chunk\"].content\n",
    "        if content:\n",
    "            # Empty content in the context of OpenAI means\n",
    "            # that the model is asking for a tool to be invoked.\n",
    "            # So we only print non-empty content\n",
    "            print(content, end=\"|\")"
   ]
  }
 ],
 "metadata": {
  "kernelspec": {
   "display_name": "Python 3",
   "language": "python",
   "name": "python3"
  },
  "language_info": {
   "codemirror_mode": {
    "name": "ipython",
    "version": 3
   },
   "file_extension": ".py",
   "mimetype": "text/x-python",
   "name": "python",
   "nbconvert_exporter": "python",
   "pygments_lexer": "ipython3",
   "version": "3.12.4"
  }
 },
 "nbformat": 4,
 "nbformat_minor": 2
}
